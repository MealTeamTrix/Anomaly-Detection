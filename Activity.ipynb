{
 "cells": [
  {
   "cell_type": "code",
   "execution_count": 1,
   "id": "293cfb7b-def1-4db5-9682-7891490cbd2b",
   "metadata": {},
   "outputs": [],
   "source": [
    "# Import libraries\n",
    "import pandas as pd\n",
    "import numpy as np\n",
    "import matplotlib.pyplot as plt\n",
    "import seaborn as sns\n",
    "from pyod.models.iforest import IForest"
   ]
  },
  {
   "cell_type": "code",
   "execution_count": 2,
   "id": "3976ef18-07c2-44db-99d5-fc4206bf9f06",
   "metadata": {},
   "outputs": [
    {
     "data": {
      "text/html": [
       "<div>\n",
       "<style scoped>\n",
       "    .dataframe tbody tr th:only-of-type {\n",
       "        vertical-align: middle;\n",
       "    }\n",
       "\n",
       "    .dataframe tbody tr th {\n",
       "        vertical-align: top;\n",
       "    }\n",
       "\n",
       "    .dataframe thead th {\n",
       "        text-align: right;\n",
       "    }\n",
       "</style>\n",
       "<table border=\"1\" class=\"dataframe\">\n",
       "  <thead>\n",
       "    <tr style=\"text-align: right;\">\n",
       "      <th></th>\n",
       "      <th>TransactionID</th>\n",
       "      <th>AccountID</th>\n",
       "      <th>TransactionAmount</th>\n",
       "      <th>TransactionDate</th>\n",
       "      <th>TransactionType</th>\n",
       "      <th>Location</th>\n",
       "      <th>DeviceID</th>\n",
       "      <th>IP Address</th>\n",
       "      <th>MerchantID</th>\n",
       "      <th>Channel</th>\n",
       "      <th>CustomerAge</th>\n",
       "      <th>CustomerOccupation</th>\n",
       "      <th>TransactionDuration</th>\n",
       "      <th>LoginAttempts</th>\n",
       "      <th>AccountBalance</th>\n",
       "      <th>PreviousTransactionDate</th>\n",
       "    </tr>\n",
       "  </thead>\n",
       "  <tbody>\n",
       "    <tr>\n",
       "      <th>0</th>\n",
       "      <td>TX000001</td>\n",
       "      <td>AC00128</td>\n",
       "      <td>14.09</td>\n",
       "      <td>2023-04-11 16:29:14</td>\n",
       "      <td>Debit</td>\n",
       "      <td>San Diego</td>\n",
       "      <td>D000380</td>\n",
       "      <td>162.198.218.92</td>\n",
       "      <td>M015</td>\n",
       "      <td>ATM</td>\n",
       "      <td>70</td>\n",
       "      <td>Doctor</td>\n",
       "      <td>81</td>\n",
       "      <td>1</td>\n",
       "      <td>5112.21</td>\n",
       "      <td>2024-11-04 08:08:08</td>\n",
       "    </tr>\n",
       "    <tr>\n",
       "      <th>1</th>\n",
       "      <td>TX000002</td>\n",
       "      <td>AC00455</td>\n",
       "      <td>376.24</td>\n",
       "      <td>2023-06-27 16:44:19</td>\n",
       "      <td>Debit</td>\n",
       "      <td>Houston</td>\n",
       "      <td>D000051</td>\n",
       "      <td>13.149.61.4</td>\n",
       "      <td>M052</td>\n",
       "      <td>ATM</td>\n",
       "      <td>68</td>\n",
       "      <td>Doctor</td>\n",
       "      <td>141</td>\n",
       "      <td>1</td>\n",
       "      <td>13758.91</td>\n",
       "      <td>2024-11-04 08:09:35</td>\n",
       "    </tr>\n",
       "    <tr>\n",
       "      <th>2</th>\n",
       "      <td>TX000003</td>\n",
       "      <td>AC00019</td>\n",
       "      <td>126.29</td>\n",
       "      <td>2023-07-10 18:16:08</td>\n",
       "      <td>Debit</td>\n",
       "      <td>Mesa</td>\n",
       "      <td>D000235</td>\n",
       "      <td>215.97.143.157</td>\n",
       "      <td>M009</td>\n",
       "      <td>Online</td>\n",
       "      <td>19</td>\n",
       "      <td>Student</td>\n",
       "      <td>56</td>\n",
       "      <td>1</td>\n",
       "      <td>1122.35</td>\n",
       "      <td>2024-11-04 08:07:04</td>\n",
       "    </tr>\n",
       "    <tr>\n",
       "      <th>3</th>\n",
       "      <td>TX000004</td>\n",
       "      <td>AC00070</td>\n",
       "      <td>184.50</td>\n",
       "      <td>2023-05-05 16:32:11</td>\n",
       "      <td>Debit</td>\n",
       "      <td>Raleigh</td>\n",
       "      <td>D000187</td>\n",
       "      <td>200.13.225.150</td>\n",
       "      <td>M002</td>\n",
       "      <td>Online</td>\n",
       "      <td>26</td>\n",
       "      <td>Student</td>\n",
       "      <td>25</td>\n",
       "      <td>1</td>\n",
       "      <td>8569.06</td>\n",
       "      <td>2024-11-04 08:09:06</td>\n",
       "    </tr>\n",
       "    <tr>\n",
       "      <th>4</th>\n",
       "      <td>TX000005</td>\n",
       "      <td>AC00411</td>\n",
       "      <td>13.45</td>\n",
       "      <td>2023-10-16 17:51:24</td>\n",
       "      <td>Credit</td>\n",
       "      <td>Atlanta</td>\n",
       "      <td>D000308</td>\n",
       "      <td>65.164.3.100</td>\n",
       "      <td>M091</td>\n",
       "      <td>Online</td>\n",
       "      <td>26</td>\n",
       "      <td>Student</td>\n",
       "      <td>198</td>\n",
       "      <td>1</td>\n",
       "      <td>7429.40</td>\n",
       "      <td>2024-11-04 08:06:39</td>\n",
       "    </tr>\n",
       "  </tbody>\n",
       "</table>\n",
       "</div>"
      ],
      "text/plain": [
       "  TransactionID AccountID  TransactionAmount      TransactionDate  \\\n",
       "0      TX000001   AC00128              14.09  2023-04-11 16:29:14   \n",
       "1      TX000002   AC00455             376.24  2023-06-27 16:44:19   \n",
       "2      TX000003   AC00019             126.29  2023-07-10 18:16:08   \n",
       "3      TX000004   AC00070             184.50  2023-05-05 16:32:11   \n",
       "4      TX000005   AC00411              13.45  2023-10-16 17:51:24   \n",
       "\n",
       "  TransactionType   Location DeviceID      IP Address MerchantID Channel  \\\n",
       "0           Debit  San Diego  D000380  162.198.218.92       M015     ATM   \n",
       "1           Debit    Houston  D000051     13.149.61.4       M052     ATM   \n",
       "2           Debit       Mesa  D000235  215.97.143.157       M009  Online   \n",
       "3           Debit    Raleigh  D000187  200.13.225.150       M002  Online   \n",
       "4          Credit    Atlanta  D000308    65.164.3.100       M091  Online   \n",
       "\n",
       "   CustomerAge CustomerOccupation  TransactionDuration  LoginAttempts  \\\n",
       "0           70             Doctor                   81              1   \n",
       "1           68             Doctor                  141              1   \n",
       "2           19            Student                   56              1   \n",
       "3           26            Student                   25              1   \n",
       "4           26            Student                  198              1   \n",
       "\n",
       "   AccountBalance PreviousTransactionDate  \n",
       "0         5112.21     2024-11-04 08:08:08  \n",
       "1        13758.91     2024-11-04 08:09:35  \n",
       "2         1122.35     2024-11-04 08:07:04  \n",
       "3         8569.06     2024-11-04 08:09:06  \n",
       "4         7429.40     2024-11-04 08:06:39  "
      ]
     },
     "execution_count": 2,
     "metadata": {},
     "output_type": "execute_result"
    }
   ],
   "source": [
    "# Load in the data\n",
    "df = pd.read_csv('data/transactions.csv')\n",
    "\n",
    "# View the data\n",
    "df.head()"
   ]
  },
  {
   "cell_type": "code",
   "execution_count": 6,
   "id": "7c3d87a2-379a-4c2b-a07a-96bd7971ad51",
   "metadata": {},
   "outputs": [
    {
     "data": {
      "text/html": [
       "<div>\n",
       "<style scoped>\n",
       "    .dataframe tbody tr th:only-of-type {\n",
       "        vertical-align: middle;\n",
       "    }\n",
       "\n",
       "    .dataframe tbody tr th {\n",
       "        vertical-align: top;\n",
       "    }\n",
       "\n",
       "    .dataframe thead th {\n",
       "        text-align: right;\n",
       "    }\n",
       "</style>\n",
       "<table border=\"1\" class=\"dataframe\">\n",
       "  <thead>\n",
       "    <tr style=\"text-align: right;\">\n",
       "      <th></th>\n",
       "      <th>TransactionAmount</th>\n",
       "      <th>TransactionDuration</th>\n",
       "      <th>AccountBalance</th>\n",
       "    </tr>\n",
       "  </thead>\n",
       "  <tbody>\n",
       "    <tr>\n",
       "      <th>0</th>\n",
       "      <td>14.09</td>\n",
       "      <td>81</td>\n",
       "      <td>5112.21</td>\n",
       "    </tr>\n",
       "    <tr>\n",
       "      <th>1</th>\n",
       "      <td>376.24</td>\n",
       "      <td>141</td>\n",
       "      <td>13758.91</td>\n",
       "    </tr>\n",
       "    <tr>\n",
       "      <th>2</th>\n",
       "      <td>126.29</td>\n",
       "      <td>56</td>\n",
       "      <td>1122.35</td>\n",
       "    </tr>\n",
       "    <tr>\n",
       "      <th>3</th>\n",
       "      <td>184.50</td>\n",
       "      <td>25</td>\n",
       "      <td>8569.06</td>\n",
       "    </tr>\n",
       "    <tr>\n",
       "      <th>4</th>\n",
       "      <td>13.45</td>\n",
       "      <td>198</td>\n",
       "      <td>7429.40</td>\n",
       "    </tr>\n",
       "  </tbody>\n",
       "</table>\n",
       "</div>"
      ],
      "text/plain": [
       "   TransactionAmount  TransactionDuration  AccountBalance\n",
       "0              14.09                   81         5112.21\n",
       "1             376.24                  141        13758.91\n",
       "2             126.29                   56         1122.35\n",
       "3             184.50                   25         8569.06\n",
       "4              13.45                  198         7429.40"
      ]
     },
     "execution_count": 6,
     "metadata": {},
     "output_type": "execute_result"
    }
   ],
   "source": [
    "# Isolate the numeric values for anomaly detection\n",
    "features = df[[\"TransactionAmount\", \"TransactionDuration\", \"AccountBalance\"]]\n",
    "\n",
    "# View the results\n",
    "features.head()"
   ]
  },
  {
   "cell_type": "code",
   "execution_count": 7,
   "id": "b32482e0-b3a2-4706-9362-fe87160befb2",
   "metadata": {},
   "outputs": [
    {
     "data": {
      "text/plain": [
       "IForest(behaviour='old', bootstrap=False, contamination=0.05,\n",
       "    max_features=1.0, max_samples='auto', n_estimators=100, n_jobs=1,\n",
       "    random_state=42, verbose=0)"
      ]
     },
     "execution_count": 7,
     "metadata": {},
     "output_type": "execute_result"
    }
   ],
   "source": [
    "# Use isolation forest for anomaly detection\n",
    "model = IForest(n_estimators = 100, contamination = 0.05, random_state = 42)\n",
    "model.fit(features)"
   ]
  },
  {
   "cell_type": "code",
   "execution_count": 8,
   "id": "8373111e-59b0-4de9-8875-1e56239ee63f",
   "metadata": {},
   "outputs": [
    {
     "name": "stderr",
     "output_type": "stream",
     "text": [
      "/home/workbench/.local/lib/python3.10/site-packages/sklearn/utils/validation.py:2732: UserWarning: X has feature names, but IsolationForest was fitted without feature names\n",
      "  warnings.warn(\n"
     ]
    }
   ],
   "source": [
    "# Add a column for anomaly detection to dataset\n",
    "df['Anomaly_Score'] = model.decision_function(features)"
   ]
  },
  {
   "cell_type": "code",
   "execution_count": 11,
   "id": "7d744946-a1a4-450d-90b8-050cc138945e",
   "metadata": {},
   "outputs": [
    {
     "name": "stderr",
     "output_type": "stream",
     "text": [
      "/home/workbench/.local/lib/python3.10/site-packages/sklearn/utils/validation.py:2732: UserWarning: X has feature names, but IsolationForest was fitted without feature names\n",
      "  warnings.warn(\n"
     ]
    }
   ],
   "source": [
    "# Flag transactions based on predictions\n",
    "df['Anomaly'] = (model.predict(features) ==1).astype(int)\n",
    "\n",
    "# Create a summary of anomalous transactions\n",
    "anomalies_summary = df.loc[df[\"Anomaly\"] ==1, [\"TransactionID\", \"TransactionAmount\", \"TransactionDuration\", \"AccountBalance\"]]"
   ]
  },
  {
   "cell_type": "code",
   "execution_count": 13,
   "id": "39ce8d74-7b07-4909-b3ea-ddf9fd07cf1e",
   "metadata": {},
   "outputs": [
    {
     "data": {
      "image/png": "[encoded data removed]",
      "text/plain": [
       "<Figure size 800x600 with 1 Axes>"
      ]
     },
     "metadata": {},
     "output_type": "display_data"
    }
   ],
   "source": [
    "# Plot the distribution of TransactionAmount for normal and anomalous transactions\n",
    "plt.figure(figsize=(8, 6))\n",
    "df[df[\"Anomaly\"] == False][\"TransactionAmount\"].hist(bins=30, alpha=0.5, label=\"Normal\", color=\"blue\")\n",
    "df[df[\"Anomaly\"] == True][\"TransactionAmount\"].hist(bins=30, alpha=0.5, label=\"Anomalous\", color=\"red\")\n",
    "plt.title(\"Transaction Amount Distribution\")\n",
    "plt.xlabel(\"Transaction Amount\")\n",
    "plt.ylabel(\"Frequency\")\n",
    "plt.legend()\n",
    "plt.savefig(\"anomalies_histogram.png\")"
   ]
  }
 ],
 "metadata": {
  "kernelspec": {
   "display_name": "Python 3 (ipykernel)",
   "language": "python",
   "name": "python3"
  },
  "language_info": {
   "codemirror_mode": {
    "name": "ipython",
    "version": 3
   },
   "file_extension": ".py",
   "mimetype": "text/x-python",
   "name": "python",
   "nbconvert_exporter": "python",
   "pygments_lexer": "ipython3",
   "version": "3.10.12"
  }
 },
 "nbformat": 4,
 "nbformat_minor": 5
}
